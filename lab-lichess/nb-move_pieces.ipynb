{
 "cells": [
  {
   "cell_type": "code",
   "execution_count": 1,
   "id": "d4101346-c217-4e8f-a88c-60ed1ea3e9e3",
   "metadata": {},
   "outputs": [],
   "source": [
    "from CGames import King"
   ]
  },
  {
   "cell_type": "code",
   "execution_count": 2,
   "id": "764fcbfc-9470-4259-8278-8498a854adc1",
   "metadata": {},
   "outputs": [],
   "source": [
    "k = King('k1')"
   ]
  },
  {
   "cell_type": "code",
   "execution_count": 3,
   "id": "b5baec2e-bb62-4f3a-a7b6-1bce2f88d4fb",
   "metadata": {},
   "outputs": [],
   "source": [
    "k.goto_square((1, 5))"
   ]
  },
  {
   "cell_type": "code",
   "execution_count": 5,
   "id": "e129cf23-6db2-4b18-a706-670fa8fa85bf",
   "metadata": {},
   "outputs": [
    {
     "data": {
      "text/plain": [
       "{(1, 1),\n",
       " (1, 2),\n",
       " (1, 3),\n",
       " (1, 4),\n",
       " (1, 6),\n",
       " (1, 7),\n",
       " (1, 8),\n",
       " (2, 5),\n",
       " (3, 5),\n",
       " (4, 5),\n",
       " (5, 5),\n",
       " (6, 5),\n",
       " (7, 5),\n",
       " (8, 5)}"
      ]
     },
     "execution_count": 5,
     "metadata": {},
     "output_type": "execute_result"
    }
   ],
   "source": [
    "k.get_squares_straight()"
   ]
  },
  {
   "cell_type": "code",
   "execution_count": 6,
   "id": "faa07138-6509-45e8-83e7-79381a2b2a10",
   "metadata": {},
   "outputs": [
    {
     "ename": "Exception",
     "evalue": "Piece.current_square not valid",
     "output_type": "error",
     "traceback": [
      "\u001b[0;31m---------------------------------------------------------------------------\u001b[0m",
      "\u001b[0;31mException\u001b[0m                                 Traceback (most recent call last)",
      "Cell \u001b[0;32mIn[6], line 2\u001b[0m\n\u001b[1;32m      1\u001b[0m kk \u001b[38;5;241m=\u001b[39m King(\u001b[38;5;124m'\u001b[39m\u001b[38;5;124mk2\u001b[39m\u001b[38;5;124m'\u001b[39m)\n\u001b[0;32m----> 2\u001b[0m \u001b[43mkk\u001b[49m\u001b[38;5;241;43m.\u001b[39;49m\u001b[43mget_squares_straight\u001b[49m\u001b[43m(\u001b[49m\u001b[43m)\u001b[49m\n",
      "File \u001b[0;32m~/Developer/chess-app/lab-lichess/CGames.py:197\u001b[0m, in \u001b[0;36mPiece.get_squares_straight\u001b[0;34m(self)\u001b[0m\n\u001b[1;32m    193\u001b[0m     squares_inline\u001b[38;5;241m.\u001b[39mremove(\u001b[38;5;28mself\u001b[39m\u001b[38;5;241m.\u001b[39mcurrent_square)\n\u001b[1;32m    196\u001b[0m \u001b[38;5;28;01melse\u001b[39;00m:\n\u001b[0;32m--> 197\u001b[0m     \u001b[38;5;28;01mraise\u001b[39;00m \u001b[38;5;167;01mException\u001b[39;00m(\u001b[38;5;124m'\u001b[39m\u001b[38;5;124mPiece.current_square not valid\u001b[39m\u001b[38;5;124m'\u001b[39m)\n\u001b[1;32m    207\u001b[0m \u001b[38;5;28;01mreturn\u001b[39;00m squares_inline\n",
      "\u001b[0;31mException\u001b[0m: Piece.current_square not valid"
     ]
    }
   ],
   "source": [
    "kk = King('k2')\n",
    "kk.get_squares_straight()"
   ]
  },
  {
   "cell_type": "code",
   "execution_count": null,
   "id": "a210e9b4-911f-4272-b224-2eb5f8fa9628",
   "metadata": {},
   "outputs": [],
   "source": []
  }
 ],
 "metadata": {
  "kernelspec": {
   "display_name": "Python 3 (ipykernel)",
   "language": "python",
   "name": "python3"
  },
  "language_info": {
   "codemirror_mode": {
    "name": "ipython",
    "version": 3
   },
   "file_extension": ".py",
   "mimetype": "text/x-python",
   "name": "python",
   "nbconvert_exporter": "python",
   "pygments_lexer": "ipython3",
   "version": "3.12.3"
  }
 },
 "nbformat": 4,
 "nbformat_minor": 5
}
