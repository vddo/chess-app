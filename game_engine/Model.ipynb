{
 "cells": [
  {
   "cell_type": "code",
   "execution_count": null,
   "id": "6104fc5f-01c1-488e-9688-b3d3604fa8da",
   "metadata": {},
   "outputs": [],
   "source": [
    "# Working on a simple chess game (no gui)"
   ]
  },
  {
   "cell_type": "code",
   "execution_count": null,
   "id": "ffa89112-a392-4630-916e-4e527af88074",
   "metadata": {},
   "outputs": [],
   "source": [
    "class CGames:\n",
    "    def __init__(self):\n",
    "        # a state to represent the position\n",
    "        # a winner\n",
    "        # type of time control\n",
    "        \n",
    "        "
   ]
  },
  {
   "cell_type": "code",
   "execution_count": null,
   "id": "11ecb0c9-79fb-4c4c-a040-39145016dc62",
   "metadata": {},
   "outputs": [],
   "source": []
  }
 ],
 "metadata": {
  "kernelspec": {
   "display_name": "Python 3 (ipykernel)",
   "language": "python",
   "name": "python3"
  },
  "language_info": {
   "codemirror_mode": {
    "name": "ipython",
    "version": 3
   },
   "file_extension": ".py",
   "mimetype": "text/x-python",
   "name": "python",
   "nbconvert_exporter": "python",
   "pygments_lexer": "ipython3",
   "version": "3.12.2"
  }
 },
 "nbformat": 4,
 "nbformat_minor": 5
}
